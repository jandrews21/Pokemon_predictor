{
 "cells": [
  {
   "cell_type": "code",
   "execution_count": 1,
   "metadata": {},
   "outputs": [
    {
     "output_type": "execute_result",
     "data": {
      "text/plain": [
       "       #        Name  Stage   Type 1  Type 2  Total   HP  Attack  Defense  \\\n",
       "0    1.0   Bulbasaur      1    Grass  Poison    318   45      49       49   \n",
       "1    2.0     Ivysaur      1    Grass  Poison    405   60      62       63   \n",
       "2    3.0    Venusaur      2    Grass  Poison    525   80      82       83   \n",
       "3    4.0  Charmander      1     Fire     NaN    309   39      52       43   \n",
       "4    5.0  Charmeleon      1     Fire     NaN    405   58      64       58   \n",
       "..   ...         ...    ...      ...     ...    ...  ...     ...      ...   \n",
       "979  NaN   Glastrier      3      Ice     NaN    580  100     145      130   \n",
       "980  NaN   Spectrier      3    Ghost     NaN    580  100      65       60   \n",
       "981  NaN     Calyrex      4  Psychic   Grass    500  100      80       80   \n",
       "982  NaN     Calyrex      3  Psychic     Ice    680  100     165      150   \n",
       "983  NaN     Calyrex      3  Psychic   Ghost    680  100      85       80   \n",
       "\n",
       "     Sp. Atk  Sp. Def  Speed  Heights (m)  Weight (kg)  Generation  \n",
       "0         65       65     45          0.7          6.9           1  \n",
       "1         80       80     60          1.0         13.0           1  \n",
       "2        100      100     80          2.0        100.0           1  \n",
       "3         60       50     65          0.6          8.5           1  \n",
       "4         80       65     80          1.1         19.0           1  \n",
       "..       ...      ...    ...          ...          ...         ...  \n",
       "979       65      110     30          2.2        800.0           8  \n",
       "980      145       80    130          2.0         44.5           8  \n",
       "981       80       80     80          1.1          7.7           8  \n",
       "982       85      130     50          2.4        809.1           8  \n",
       "983      165      100    150          2.4         53.6           8  \n",
       "\n",
       "[984 rows x 15 columns]"
      ],
      "text/html": "<div>\n<style scoped>\n    .dataframe tbody tr th:only-of-type {\n        vertical-align: middle;\n    }\n\n    .dataframe tbody tr th {\n        vertical-align: top;\n    }\n\n    .dataframe thead th {\n        text-align: right;\n    }\n</style>\n<table border=\"1\" class=\"dataframe\">\n  <thead>\n    <tr style=\"text-align: right;\">\n      <th></th>\n      <th>#</th>\n      <th>Name</th>\n      <th>Stage</th>\n      <th>Type 1</th>\n      <th>Type 2</th>\n      <th>Total</th>\n      <th>HP</th>\n      <th>Attack</th>\n      <th>Defense</th>\n      <th>Sp. Atk</th>\n      <th>Sp. Def</th>\n      <th>Speed</th>\n      <th>Heights (m)</th>\n      <th>Weight (kg)</th>\n      <th>Generation</th>\n    </tr>\n  </thead>\n  <tbody>\n    <tr>\n      <th>0</th>\n      <td>1.0</td>\n      <td>Bulbasaur</td>\n      <td>1</td>\n      <td>Grass</td>\n      <td>Poison</td>\n      <td>318</td>\n      <td>45</td>\n      <td>49</td>\n      <td>49</td>\n      <td>65</td>\n      <td>65</td>\n      <td>45</td>\n      <td>0.7</td>\n      <td>6.9</td>\n      <td>1</td>\n    </tr>\n    <tr>\n      <th>1</th>\n      <td>2.0</td>\n      <td>Ivysaur</td>\n      <td>1</td>\n      <td>Grass</td>\n      <td>Poison</td>\n      <td>405</td>\n      <td>60</td>\n      <td>62</td>\n      <td>63</td>\n      <td>80</td>\n      <td>80</td>\n      <td>60</td>\n      <td>1.0</td>\n      <td>13.0</td>\n      <td>1</td>\n    </tr>\n    <tr>\n      <th>2</th>\n      <td>3.0</td>\n      <td>Venusaur</td>\n      <td>2</td>\n      <td>Grass</td>\n      <td>Poison</td>\n      <td>525</td>\n      <td>80</td>\n      <td>82</td>\n      <td>83</td>\n      <td>100</td>\n      <td>100</td>\n      <td>80</td>\n      <td>2.0</td>\n      <td>100.0</td>\n      <td>1</td>\n    </tr>\n    <tr>\n      <th>3</th>\n      <td>4.0</td>\n      <td>Charmander</td>\n      <td>1</td>\n      <td>Fire</td>\n      <td>NaN</td>\n      <td>309</td>\n      <td>39</td>\n      <td>52</td>\n      <td>43</td>\n      <td>60</td>\n      <td>50</td>\n      <td>65</td>\n      <td>0.6</td>\n      <td>8.5</td>\n      <td>1</td>\n    </tr>\n    <tr>\n      <th>4</th>\n      <td>5.0</td>\n      <td>Charmeleon</td>\n      <td>1</td>\n      <td>Fire</td>\n      <td>NaN</td>\n      <td>405</td>\n      <td>58</td>\n      <td>64</td>\n      <td>58</td>\n      <td>80</td>\n      <td>65</td>\n      <td>80</td>\n      <td>1.1</td>\n      <td>19.0</td>\n      <td>1</td>\n    </tr>\n    <tr>\n      <th>...</th>\n      <td>...</td>\n      <td>...</td>\n      <td>...</td>\n      <td>...</td>\n      <td>...</td>\n      <td>...</td>\n      <td>...</td>\n      <td>...</td>\n      <td>...</td>\n      <td>...</td>\n      <td>...</td>\n      <td>...</td>\n      <td>...</td>\n      <td>...</td>\n      <td>...</td>\n    </tr>\n    <tr>\n      <th>979</th>\n      <td>NaN</td>\n      <td>Glastrier</td>\n      <td>3</td>\n      <td>Ice</td>\n      <td>NaN</td>\n      <td>580</td>\n      <td>100</td>\n      <td>145</td>\n      <td>130</td>\n      <td>65</td>\n      <td>110</td>\n      <td>30</td>\n      <td>2.2</td>\n      <td>800.0</td>\n      <td>8</td>\n    </tr>\n    <tr>\n      <th>980</th>\n      <td>NaN</td>\n      <td>Spectrier</td>\n      <td>3</td>\n      <td>Ghost</td>\n      <td>NaN</td>\n      <td>580</td>\n      <td>100</td>\n      <td>65</td>\n      <td>60</td>\n      <td>145</td>\n      <td>80</td>\n      <td>130</td>\n      <td>2.0</td>\n      <td>44.5</td>\n      <td>8</td>\n    </tr>\n    <tr>\n      <th>981</th>\n      <td>NaN</td>\n      <td>Calyrex</td>\n      <td>4</td>\n      <td>Psychic</td>\n      <td>Grass</td>\n      <td>500</td>\n      <td>100</td>\n      <td>80</td>\n      <td>80</td>\n      <td>80</td>\n      <td>80</td>\n      <td>80</td>\n      <td>1.1</td>\n      <td>7.7</td>\n      <td>8</td>\n    </tr>\n    <tr>\n      <th>982</th>\n      <td>NaN</td>\n      <td>Calyrex</td>\n      <td>3</td>\n      <td>Psychic</td>\n      <td>Ice</td>\n      <td>680</td>\n      <td>100</td>\n      <td>165</td>\n      <td>150</td>\n      <td>85</td>\n      <td>130</td>\n      <td>50</td>\n      <td>2.4</td>\n      <td>809.1</td>\n      <td>8</td>\n    </tr>\n    <tr>\n      <th>983</th>\n      <td>NaN</td>\n      <td>Calyrex</td>\n      <td>3</td>\n      <td>Psychic</td>\n      <td>Ghost</td>\n      <td>680</td>\n      <td>100</td>\n      <td>85</td>\n      <td>80</td>\n      <td>165</td>\n      <td>100</td>\n      <td>150</td>\n      <td>2.4</td>\n      <td>53.6</td>\n      <td>8</td>\n    </tr>\n  </tbody>\n</table>\n<p>984 rows × 15 columns</p>\n</div>"
     },
     "metadata": {},
     "execution_count": 1
    }
   ],
   "source": [
    "'''\n",
    "My project’s goal is to be able to predict certain traits about Pokémon based off of their in-game features. \n",
    "All Pokémon have 6 types of base stats, which are health, attack, defense, special attack, special defense, and speed.\n",
    "These numbers are represented by integers in game, and each of these base stats determines how a Pokémon will grow \n",
    "when it levels up. Other than base stats, Pokémon have a typing, which basically determines its abilities, \n",
    "strengths, and weakness. Base stats and typing normally go hand-in-hand. An example is that the Rock-type \n",
    "typically has high defense, but low speed. Using these stats and other trends, I’m planning to see if an \n",
    "algorithm can correctly predict what type a Pokémon is based off of the stats it receives. \n",
    "\n",
    "The data I’m using is a collection of all 898 Pokémon, including their typing, their base stat total \n",
    "(which is the sum of all their stats, each one of their 6 individual stats, and the “stage” at which the Pokémon \n",
    "is currently at. The base stat totals and the types will act as the features for each Pokémon. \n",
    "\n",
    "In this notebook, I'm looking to classify Pokémon as legendary or nonlegendary. \n",
    "\n",
    "\n",
    "References:\n",
    "\n",
    "https://medium.com/analytics-vidhya/evaluating-a-random-forest-model-9d165595ad56\n",
    "\n",
    "https://towardsdatascience.com/introduction-to-machine-learning-with-pokemon-ccb7c9d1351b\n",
    "\n",
    "https://towardsdatascience.com/identifying-legendary-pok%C3%A9mon-using-the-random-forest-algorithm-ed0904d07d64\n",
    "\n",
    "\n",
    "'''\n",
    "\n",
    "\n",
    "import pandas as pd\n",
    "from sklearn.metrics import accuracy_score, confusion_matrix, classification_report\n",
    "\n",
    "pok = pd.read_csv('pokemon.csv')\n",
    "\n",
    "pok"
   ]
  },
  {
   "cell_type": "code",
   "execution_count": 2,
   "metadata": {},
   "outputs": [
    {
     "output_type": "execute_result",
     "data": {
      "text/plain": [
       "pandas.core.frame.DataFrame"
      ]
     },
     "metadata": {},
     "execution_count": 2
    }
   ],
   "source": [
    "type(pok)"
   ]
  },
  {
   "cell_type": "code",
   "execution_count": 3,
   "metadata": {},
   "outputs": [
    {
     "output_type": "execute_result",
     "data": {
      "text/plain": [
       "array([[1.0, 'Bulbasaur', 1, ..., 0.7, 6.9, 1],\n",
       "       [2.0, 'Ivysaur', 1, ..., 1.0, 13.0, 1],\n",
       "       [3.0, 'Venusaur', 2, ..., 2.0, 100.0, 1],\n",
       "       ...,\n",
       "       [nan, 'Calyrex', 4, ..., 1.1, 7.7, 8],\n",
       "       [nan, 'Calyrex', 3, ..., 2.4, 809.1, 8],\n",
       "       [nan, 'Calyrex', 3, ..., 2.4, 53.6, 8]], dtype=object)"
      ]
     },
     "metadata": {},
     "execution_count": 3
    }
   ],
   "source": [
    "poke = pok.to_numpy()\n",
    "poke"
   ]
  },
  {
   "cell_type": "code",
   "execution_count": 4,
   "metadata": {},
   "outputs": [],
   "source": [
    "X = poke[:,3:14]"
   ]
  },
  {
   "cell_type": "code",
   "execution_count": 5,
   "metadata": {},
   "outputs": [
    {
     "output_type": "execute_result",
     "data": {
      "text/plain": [
       "array(['Type 1 Grass', 'Type 2 Poison', 318, 45, 49, 49, 65, 65, 45, 0.7,\n",
       "       6.9], dtype=object)"
      ]
     },
     "metadata": {},
     "execution_count": 5
    }
   ],
   "source": [
    "'''\n",
    "I'm using one hot encoding to turn the types into features here. The loop below is used to help the machine\n",
    "differentiate between a Pokémon's primary and secondary typing. \"Type 2 Blank\" indicates that a Pokémon does not have\n",
    "a secondary typing, and is kind of a placeholder feature.\n",
    "'''\n",
    "\n",
    "import numpy as np\n",
    "'''\n",
    "ONLY RUN THIS CELL ONCE\n",
    "'''\n",
    "for i in range(len(X)):\n",
    "    X[i,0] = 'Type 1 ' + X[i,0]\n",
    "    if isinstance(X[i,1], str):\n",
    "        X[i,1] = 'Type 2 ' + X[i,1]\n",
    "    else:\n",
    "        X[i,1] = 'Type 2 Blank'\n",
    "  \n",
    "X[0,:]"
   ]
  },
  {
   "cell_type": "code",
   "execution_count": 6,
   "metadata": {},
   "outputs": [
    {
     "output_type": "execute_result",
     "data": {
      "text/plain": [
       "     Type 1 Bug  Type 1 Dark  Type 1 Dragon  Type 1 Electric  Type 1 Fairy  \\\n",
       "0             0            0              0                0             0   \n",
       "1             0            0              0                0             0   \n",
       "2             0            0              0                0             0   \n",
       "3             0            0              0                0             0   \n",
       "4             0            0              0                0             0   \n",
       "..          ...          ...            ...              ...           ...   \n",
       "979           0            0              0                0             0   \n",
       "980           0            0              0                0             0   \n",
       "981           0            0              0                0             0   \n",
       "982           0            0              0                0             0   \n",
       "983           0            0              0                0             0   \n",
       "\n",
       "     Type 1 Fighting  Type 1 Fire  Type 1 Flying  Type 1 Ghost  Type 1 Grass  \\\n",
       "0                  0            0              0             0             1   \n",
       "1                  0            0              0             0             1   \n",
       "2                  0            0              0             0             1   \n",
       "3                  0            1              0             0             0   \n",
       "4                  0            1              0             0             0   \n",
       "..               ...          ...            ...           ...           ...   \n",
       "979                0            0              0             0             0   \n",
       "980                0            0              0             1             0   \n",
       "981                0            0              0             0             0   \n",
       "982                0            0              0             0             0   \n",
       "983                0            0              0             0             0   \n",
       "\n",
       "     Type 1 Ground  Type 1 Ice  Type 1 Normal  Type 1 Poison  Type 1 Psychic  \\\n",
       "0                0           0              0              0               0   \n",
       "1                0           0              0              0               0   \n",
       "2                0           0              0              0               0   \n",
       "3                0           0              0              0               0   \n",
       "4                0           0              0              0               0   \n",
       "..             ...         ...            ...            ...             ...   \n",
       "979              0           1              0              0               0   \n",
       "980              0           0              0              0               0   \n",
       "981              0           0              0              0               1   \n",
       "982              0           0              0              0               1   \n",
       "983              0           0              0              0               1   \n",
       "\n",
       "     Type 1 Rock  Type 1 Steel  Type 1 Water  \n",
       "0              0             0             0  \n",
       "1              0             0             0  \n",
       "2              0             0             0  \n",
       "3              0             0             0  \n",
       "4              0             0             0  \n",
       "..           ...           ...           ...  \n",
       "979            0             0             0  \n",
       "980            0             0             0  \n",
       "981            0             0             0  \n",
       "982            0             0             0  \n",
       "983            0             0             0  \n",
       "\n",
       "[984 rows x 18 columns]"
      ],
      "text/html": "<div>\n<style scoped>\n    .dataframe tbody tr th:only-of-type {\n        vertical-align: middle;\n    }\n\n    .dataframe tbody tr th {\n        vertical-align: top;\n    }\n\n    .dataframe thead th {\n        text-align: right;\n    }\n</style>\n<table border=\"1\" class=\"dataframe\">\n  <thead>\n    <tr style=\"text-align: right;\">\n      <th></th>\n      <th>Type 1 Bug</th>\n      <th>Type 1 Dark</th>\n      <th>Type 1 Dragon</th>\n      <th>Type 1 Electric</th>\n      <th>Type 1 Fairy</th>\n      <th>Type 1 Fighting</th>\n      <th>Type 1 Fire</th>\n      <th>Type 1 Flying</th>\n      <th>Type 1 Ghost</th>\n      <th>Type 1 Grass</th>\n      <th>Type 1 Ground</th>\n      <th>Type 1 Ice</th>\n      <th>Type 1 Normal</th>\n      <th>Type 1 Poison</th>\n      <th>Type 1 Psychic</th>\n      <th>Type 1 Rock</th>\n      <th>Type 1 Steel</th>\n      <th>Type 1 Water</th>\n    </tr>\n  </thead>\n  <tbody>\n    <tr>\n      <th>0</th>\n      <td>0</td>\n      <td>0</td>\n      <td>0</td>\n      <td>0</td>\n      <td>0</td>\n      <td>0</td>\n      <td>0</td>\n      <td>0</td>\n      <td>0</td>\n      <td>1</td>\n      <td>0</td>\n      <td>0</td>\n      <td>0</td>\n      <td>0</td>\n      <td>0</td>\n      <td>0</td>\n      <td>0</td>\n      <td>0</td>\n    </tr>\n    <tr>\n      <th>1</th>\n      <td>0</td>\n      <td>0</td>\n      <td>0</td>\n      <td>0</td>\n      <td>0</td>\n      <td>0</td>\n      <td>0</td>\n      <td>0</td>\n      <td>0</td>\n      <td>1</td>\n      <td>0</td>\n      <td>0</td>\n      <td>0</td>\n      <td>0</td>\n      <td>0</td>\n      <td>0</td>\n      <td>0</td>\n      <td>0</td>\n    </tr>\n    <tr>\n      <th>2</th>\n      <td>0</td>\n      <td>0</td>\n      <td>0</td>\n      <td>0</td>\n      <td>0</td>\n      <td>0</td>\n      <td>0</td>\n      <td>0</td>\n      <td>0</td>\n      <td>1</td>\n      <td>0</td>\n      <td>0</td>\n      <td>0</td>\n      <td>0</td>\n      <td>0</td>\n      <td>0</td>\n      <td>0</td>\n      <td>0</td>\n    </tr>\n    <tr>\n      <th>3</th>\n      <td>0</td>\n      <td>0</td>\n      <td>0</td>\n      <td>0</td>\n      <td>0</td>\n      <td>0</td>\n      <td>1</td>\n      <td>0</td>\n      <td>0</td>\n      <td>0</td>\n      <td>0</td>\n      <td>0</td>\n      <td>0</td>\n      <td>0</td>\n      <td>0</td>\n      <td>0</td>\n      <td>0</td>\n      <td>0</td>\n    </tr>\n    <tr>\n      <th>4</th>\n      <td>0</td>\n      <td>0</td>\n      <td>0</td>\n      <td>0</td>\n      <td>0</td>\n      <td>0</td>\n      <td>1</td>\n      <td>0</td>\n      <td>0</td>\n      <td>0</td>\n      <td>0</td>\n      <td>0</td>\n      <td>0</td>\n      <td>0</td>\n      <td>0</td>\n      <td>0</td>\n      <td>0</td>\n      <td>0</td>\n    </tr>\n    <tr>\n      <th>...</th>\n      <td>...</td>\n      <td>...</td>\n      <td>...</td>\n      <td>...</td>\n      <td>...</td>\n      <td>...</td>\n      <td>...</td>\n      <td>...</td>\n      <td>...</td>\n      <td>...</td>\n      <td>...</td>\n      <td>...</td>\n      <td>...</td>\n      <td>...</td>\n      <td>...</td>\n      <td>...</td>\n      <td>...</td>\n      <td>...</td>\n    </tr>\n    <tr>\n      <th>979</th>\n      <td>0</td>\n      <td>0</td>\n      <td>0</td>\n      <td>0</td>\n      <td>0</td>\n      <td>0</td>\n      <td>0</td>\n      <td>0</td>\n      <td>0</td>\n      <td>0</td>\n      <td>0</td>\n      <td>1</td>\n      <td>0</td>\n      <td>0</td>\n      <td>0</td>\n      <td>0</td>\n      <td>0</td>\n      <td>0</td>\n    </tr>\n    <tr>\n      <th>980</th>\n      <td>0</td>\n      <td>0</td>\n      <td>0</td>\n      <td>0</td>\n      <td>0</td>\n      <td>0</td>\n      <td>0</td>\n      <td>0</td>\n      <td>1</td>\n      <td>0</td>\n      <td>0</td>\n      <td>0</td>\n      <td>0</td>\n      <td>0</td>\n      <td>0</td>\n      <td>0</td>\n      <td>0</td>\n      <td>0</td>\n    </tr>\n    <tr>\n      <th>981</th>\n      <td>0</td>\n      <td>0</td>\n      <td>0</td>\n      <td>0</td>\n      <td>0</td>\n      <td>0</td>\n      <td>0</td>\n      <td>0</td>\n      <td>0</td>\n      <td>0</td>\n      <td>0</td>\n      <td>0</td>\n      <td>0</td>\n      <td>0</td>\n      <td>1</td>\n      <td>0</td>\n      <td>0</td>\n      <td>0</td>\n    </tr>\n    <tr>\n      <th>982</th>\n      <td>0</td>\n      <td>0</td>\n      <td>0</td>\n      <td>0</td>\n      <td>0</td>\n      <td>0</td>\n      <td>0</td>\n      <td>0</td>\n      <td>0</td>\n      <td>0</td>\n      <td>0</td>\n      <td>0</td>\n      <td>0</td>\n      <td>0</td>\n      <td>1</td>\n      <td>0</td>\n      <td>0</td>\n      <td>0</td>\n    </tr>\n    <tr>\n      <th>983</th>\n      <td>0</td>\n      <td>0</td>\n      <td>0</td>\n      <td>0</td>\n      <td>0</td>\n      <td>0</td>\n      <td>0</td>\n      <td>0</td>\n      <td>0</td>\n      <td>0</td>\n      <td>0</td>\n      <td>0</td>\n      <td>0</td>\n      <td>0</td>\n      <td>1</td>\n      <td>0</td>\n      <td>0</td>\n      <td>0</td>\n    </tr>\n  </tbody>\n</table>\n<p>984 rows × 18 columns</p>\n</div>"
     },
     "metadata": {},
     "execution_count": 6
    }
   ],
   "source": [
    "'''\n",
    "The one-hot encoding is done here. This splits each of a Pokémon's typing into 18 different features, \n",
    "asking yes or no if a Pokémon is a certain type. For example, Bulbasaur, the first Pokémon is Grass/Poison. This\n",
    "means it will have a 1 in the \"Type 1 Grass\" column and \"Type 2 Poison\" column.\n",
    "'''\n",
    "\n",
    "type1 = pd.get_dummies(X[:,0])\n",
    "type1"
   ]
  },
  {
   "cell_type": "code",
   "execution_count": 7,
   "metadata": {},
   "outputs": [
    {
     "output_type": "execute_result",
     "data": {
      "text/plain": [
       "     Type 2 Blank  Type 2 Bug  Type 2 Dark  Type 2 Dragon  Type 2 Electric  \\\n",
       "0               0           0            0              0                0   \n",
       "1               0           0            0              0                0   \n",
       "2               0           0            0              0                0   \n",
       "3               1           0            0              0                0   \n",
       "4               1           0            0              0                0   \n",
       "..            ...         ...          ...            ...              ...   \n",
       "979             1           0            0              0                0   \n",
       "980             1           0            0              0                0   \n",
       "981             0           0            0              0                0   \n",
       "982             0           0            0              0                0   \n",
       "983             0           0            0              0                0   \n",
       "\n",
       "     Type 2 Fairy  Type 2 Fighting  Type 2 Fire  Type 2 Flying  Type 2 Ghost  \\\n",
       "0               0                0            0              0             0   \n",
       "1               0                0            0              0             0   \n",
       "2               0                0            0              0             0   \n",
       "3               0                0            0              0             0   \n",
       "4               0                0            0              0             0   \n",
       "..            ...              ...          ...            ...           ...   \n",
       "979             0                0            0              0             0   \n",
       "980             0                0            0              0             0   \n",
       "981             0                0            0              0             0   \n",
       "982             0                0            0              0             0   \n",
       "983             0                0            0              0             1   \n",
       "\n",
       "     Type 2 Grass  Type 2 Ground  Type 2 Ice  Type 2 Normal  Type 2 Poison  \\\n",
       "0               0              0           0              0              1   \n",
       "1               0              0           0              0              1   \n",
       "2               0              0           0              0              1   \n",
       "3               0              0           0              0              0   \n",
       "4               0              0           0              0              0   \n",
       "..            ...            ...         ...            ...            ...   \n",
       "979             0              0           0              0              0   \n",
       "980             0              0           0              0              0   \n",
       "981             1              0           0              0              0   \n",
       "982             0              0           1              0              0   \n",
       "983             0              0           0              0              0   \n",
       "\n",
       "     Type 2 Psychic  Type 2 Rock  Type 2 Steel  Type 2 Water  \n",
       "0                 0            0             0             0  \n",
       "1                 0            0             0             0  \n",
       "2                 0            0             0             0  \n",
       "3                 0            0             0             0  \n",
       "4                 0            0             0             0  \n",
       "..              ...          ...           ...           ...  \n",
       "979               0            0             0             0  \n",
       "980               0            0             0             0  \n",
       "981               0            0             0             0  \n",
       "982               0            0             0             0  \n",
       "983               0            0             0             0  \n",
       "\n",
       "[984 rows x 19 columns]"
      ],
      "text/html": "<div>\n<style scoped>\n    .dataframe tbody tr th:only-of-type {\n        vertical-align: middle;\n    }\n\n    .dataframe tbody tr th {\n        vertical-align: top;\n    }\n\n    .dataframe thead th {\n        text-align: right;\n    }\n</style>\n<table border=\"1\" class=\"dataframe\">\n  <thead>\n    <tr style=\"text-align: right;\">\n      <th></th>\n      <th>Type 2 Blank</th>\n      <th>Type 2 Bug</th>\n      <th>Type 2 Dark</th>\n      <th>Type 2 Dragon</th>\n      <th>Type 2 Electric</th>\n      <th>Type 2 Fairy</th>\n      <th>Type 2 Fighting</th>\n      <th>Type 2 Fire</th>\n      <th>Type 2 Flying</th>\n      <th>Type 2 Ghost</th>\n      <th>Type 2 Grass</th>\n      <th>Type 2 Ground</th>\n      <th>Type 2 Ice</th>\n      <th>Type 2 Normal</th>\n      <th>Type 2 Poison</th>\n      <th>Type 2 Psychic</th>\n      <th>Type 2 Rock</th>\n      <th>Type 2 Steel</th>\n      <th>Type 2 Water</th>\n    </tr>\n  </thead>\n  <tbody>\n    <tr>\n      <th>0</th>\n      <td>0</td>\n      <td>0</td>\n      <td>0</td>\n      <td>0</td>\n      <td>0</td>\n      <td>0</td>\n      <td>0</td>\n      <td>0</td>\n      <td>0</td>\n      <td>0</td>\n      <td>0</td>\n      <td>0</td>\n      <td>0</td>\n      <td>0</td>\n      <td>1</td>\n      <td>0</td>\n      <td>0</td>\n      <td>0</td>\n      <td>0</td>\n    </tr>\n    <tr>\n      <th>1</th>\n      <td>0</td>\n      <td>0</td>\n      <td>0</td>\n      <td>0</td>\n      <td>0</td>\n      <td>0</td>\n      <td>0</td>\n      <td>0</td>\n      <td>0</td>\n      <td>0</td>\n      <td>0</td>\n      <td>0</td>\n      <td>0</td>\n      <td>0</td>\n      <td>1</td>\n      <td>0</td>\n      <td>0</td>\n      <td>0</td>\n      <td>0</td>\n    </tr>\n    <tr>\n      <th>2</th>\n      <td>0</td>\n      <td>0</td>\n      <td>0</td>\n      <td>0</td>\n      <td>0</td>\n      <td>0</td>\n      <td>0</td>\n      <td>0</td>\n      <td>0</td>\n      <td>0</td>\n      <td>0</td>\n      <td>0</td>\n      <td>0</td>\n      <td>0</td>\n      <td>1</td>\n      <td>0</td>\n      <td>0</td>\n      <td>0</td>\n      <td>0</td>\n    </tr>\n    <tr>\n      <th>3</th>\n      <td>1</td>\n      <td>0</td>\n      <td>0</td>\n      <td>0</td>\n      <td>0</td>\n      <td>0</td>\n      <td>0</td>\n      <td>0</td>\n      <td>0</td>\n      <td>0</td>\n      <td>0</td>\n      <td>0</td>\n      <td>0</td>\n      <td>0</td>\n      <td>0</td>\n      <td>0</td>\n      <td>0</td>\n      <td>0</td>\n      <td>0</td>\n    </tr>\n    <tr>\n      <th>4</th>\n      <td>1</td>\n      <td>0</td>\n      <td>0</td>\n      <td>0</td>\n      <td>0</td>\n      <td>0</td>\n      <td>0</td>\n      <td>0</td>\n      <td>0</td>\n      <td>0</td>\n      <td>0</td>\n      <td>0</td>\n      <td>0</td>\n      <td>0</td>\n      <td>0</td>\n      <td>0</td>\n      <td>0</td>\n      <td>0</td>\n      <td>0</td>\n    </tr>\n    <tr>\n      <th>...</th>\n      <td>...</td>\n      <td>...</td>\n      <td>...</td>\n      <td>...</td>\n      <td>...</td>\n      <td>...</td>\n      <td>...</td>\n      <td>...</td>\n      <td>...</td>\n      <td>...</td>\n      <td>...</td>\n      <td>...</td>\n      <td>...</td>\n      <td>...</td>\n      <td>...</td>\n      <td>...</td>\n      <td>...</td>\n      <td>...</td>\n      <td>...</td>\n    </tr>\n    <tr>\n      <th>979</th>\n      <td>1</td>\n      <td>0</td>\n      <td>0</td>\n      <td>0</td>\n      <td>0</td>\n      <td>0</td>\n      <td>0</td>\n      <td>0</td>\n      <td>0</td>\n      <td>0</td>\n      <td>0</td>\n      <td>0</td>\n      <td>0</td>\n      <td>0</td>\n      <td>0</td>\n      <td>0</td>\n      <td>0</td>\n      <td>0</td>\n      <td>0</td>\n    </tr>\n    <tr>\n      <th>980</th>\n      <td>1</td>\n      <td>0</td>\n      <td>0</td>\n      <td>0</td>\n      <td>0</td>\n      <td>0</td>\n      <td>0</td>\n      <td>0</td>\n      <td>0</td>\n      <td>0</td>\n      <td>0</td>\n      <td>0</td>\n      <td>0</td>\n      <td>0</td>\n      <td>0</td>\n      <td>0</td>\n      <td>0</td>\n      <td>0</td>\n      <td>0</td>\n    </tr>\n    <tr>\n      <th>981</th>\n      <td>0</td>\n      <td>0</td>\n      <td>0</td>\n      <td>0</td>\n      <td>0</td>\n      <td>0</td>\n      <td>0</td>\n      <td>0</td>\n      <td>0</td>\n      <td>0</td>\n      <td>1</td>\n      <td>0</td>\n      <td>0</td>\n      <td>0</td>\n      <td>0</td>\n      <td>0</td>\n      <td>0</td>\n      <td>0</td>\n      <td>0</td>\n    </tr>\n    <tr>\n      <th>982</th>\n      <td>0</td>\n      <td>0</td>\n      <td>0</td>\n      <td>0</td>\n      <td>0</td>\n      <td>0</td>\n      <td>0</td>\n      <td>0</td>\n      <td>0</td>\n      <td>0</td>\n      <td>0</td>\n      <td>0</td>\n      <td>1</td>\n      <td>0</td>\n      <td>0</td>\n      <td>0</td>\n      <td>0</td>\n      <td>0</td>\n      <td>0</td>\n    </tr>\n    <tr>\n      <th>983</th>\n      <td>0</td>\n      <td>0</td>\n      <td>0</td>\n      <td>0</td>\n      <td>0</td>\n      <td>0</td>\n      <td>0</td>\n      <td>0</td>\n      <td>0</td>\n      <td>1</td>\n      <td>0</td>\n      <td>0</td>\n      <td>0</td>\n      <td>0</td>\n      <td>0</td>\n      <td>0</td>\n      <td>0</td>\n      <td>0</td>\n      <td>0</td>\n    </tr>\n  </tbody>\n</table>\n<p>984 rows × 19 columns</p>\n</div>"
     },
     "metadata": {},
     "execution_count": 7
    }
   ],
   "source": [
    "type2 = pd.get_dummies(X[:,1])\n",
    "type2"
   ]
  },
  {
   "cell_type": "code",
   "execution_count": 8,
   "metadata": {},
   "outputs": [
    {
     "output_type": "execute_result",
     "data": {
      "text/plain": [
       "     Type 1 Bug  Type 1 Dark  Type 1 Dragon  Type 1 Electric  Type 1 Fairy  \\\n",
       "0             0            0              0                0             0   \n",
       "1             0            0              0                0             0   \n",
       "2             0            0              0                0             0   \n",
       "3             0            0              0                0             0   \n",
       "4             0            0              0                0             0   \n",
       "..          ...          ...            ...              ...           ...   \n",
       "979           0            0              0                0             0   \n",
       "980           0            0              0                0             0   \n",
       "981           0            0              0                0             0   \n",
       "982           0            0              0                0             0   \n",
       "983           0            0              0                0             0   \n",
       "\n",
       "     Type 1 Fighting  Type 1 Fire  Type 1 Flying  Type 1 Ghost  Type 1 Grass  \\\n",
       "0                  0            0              0             0             1   \n",
       "1                  0            0              0             0             1   \n",
       "2                  0            0              0             0             1   \n",
       "3                  0            1              0             0             0   \n",
       "4                  0            1              0             0             0   \n",
       "..               ...          ...            ...           ...           ...   \n",
       "979                0            0              0             0             0   \n",
       "980                0            0              0             1             0   \n",
       "981                0            0              0             0             0   \n",
       "982                0            0              0             0             0   \n",
       "983                0            0              0             0             0   \n",
       "\n",
       "     ...  Type 2 Ghost  Type 2 Grass  Type 2 Ground  Type 2 Ice  \\\n",
       "0    ...             0             0              0           0   \n",
       "1    ...             0             0              0           0   \n",
       "2    ...             0             0              0           0   \n",
       "3    ...             0             0              0           0   \n",
       "4    ...             0             0              0           0   \n",
       "..   ...           ...           ...            ...         ...   \n",
       "979  ...             0             0              0           0   \n",
       "980  ...             0             0              0           0   \n",
       "981  ...             0             1              0           0   \n",
       "982  ...             0             0              0           1   \n",
       "983  ...             1             0              0           0   \n",
       "\n",
       "     Type 2 Normal  Type 2 Poison  Type 2 Psychic  Type 2 Rock  Type 2 Steel  \\\n",
       "0                0              1               0            0             0   \n",
       "1                0              1               0            0             0   \n",
       "2                0              1               0            0             0   \n",
       "3                0              0               0            0             0   \n",
       "4                0              0               0            0             0   \n",
       "..             ...            ...             ...          ...           ...   \n",
       "979              0              0               0            0             0   \n",
       "980              0              0               0            0             0   \n",
       "981              0              0               0            0             0   \n",
       "982              0              0               0            0             0   \n",
       "983              0              0               0            0             0   \n",
       "\n",
       "     Type 2 Water  \n",
       "0               0  \n",
       "1               0  \n",
       "2               0  \n",
       "3               0  \n",
       "4               0  \n",
       "..            ...  \n",
       "979             0  \n",
       "980             0  \n",
       "981             0  \n",
       "982             0  \n",
       "983             0  \n",
       "\n",
       "[984 rows x 37 columns]"
      ],
      "text/html": "<div>\n<style scoped>\n    .dataframe tbody tr th:only-of-type {\n        vertical-align: middle;\n    }\n\n    .dataframe tbody tr th {\n        vertical-align: top;\n    }\n\n    .dataframe thead th {\n        text-align: right;\n    }\n</style>\n<table border=\"1\" class=\"dataframe\">\n  <thead>\n    <tr style=\"text-align: right;\">\n      <th></th>\n      <th>Type 1 Bug</th>\n      <th>Type 1 Dark</th>\n      <th>Type 1 Dragon</th>\n      <th>Type 1 Electric</th>\n      <th>Type 1 Fairy</th>\n      <th>Type 1 Fighting</th>\n      <th>Type 1 Fire</th>\n      <th>Type 1 Flying</th>\n      <th>Type 1 Ghost</th>\n      <th>Type 1 Grass</th>\n      <th>...</th>\n      <th>Type 2 Ghost</th>\n      <th>Type 2 Grass</th>\n      <th>Type 2 Ground</th>\n      <th>Type 2 Ice</th>\n      <th>Type 2 Normal</th>\n      <th>Type 2 Poison</th>\n      <th>Type 2 Psychic</th>\n      <th>Type 2 Rock</th>\n      <th>Type 2 Steel</th>\n      <th>Type 2 Water</th>\n    </tr>\n  </thead>\n  <tbody>\n    <tr>\n      <th>0</th>\n      <td>0</td>\n      <td>0</td>\n      <td>0</td>\n      <td>0</td>\n      <td>0</td>\n      <td>0</td>\n      <td>0</td>\n      <td>0</td>\n      <td>0</td>\n      <td>1</td>\n      <td>...</td>\n      <td>0</td>\n      <td>0</td>\n      <td>0</td>\n      <td>0</td>\n      <td>0</td>\n      <td>1</td>\n      <td>0</td>\n      <td>0</td>\n      <td>0</td>\n      <td>0</td>\n    </tr>\n    <tr>\n      <th>1</th>\n      <td>0</td>\n      <td>0</td>\n      <td>0</td>\n      <td>0</td>\n      <td>0</td>\n      <td>0</td>\n      <td>0</td>\n      <td>0</td>\n      <td>0</td>\n      <td>1</td>\n      <td>...</td>\n      <td>0</td>\n      <td>0</td>\n      <td>0</td>\n      <td>0</td>\n      <td>0</td>\n      <td>1</td>\n      <td>0</td>\n      <td>0</td>\n      <td>0</td>\n      <td>0</td>\n    </tr>\n    <tr>\n      <th>2</th>\n      <td>0</td>\n      <td>0</td>\n      <td>0</td>\n      <td>0</td>\n      <td>0</td>\n      <td>0</td>\n      <td>0</td>\n      <td>0</td>\n      <td>0</td>\n      <td>1</td>\n      <td>...</td>\n      <td>0</td>\n      <td>0</td>\n      <td>0</td>\n      <td>0</td>\n      <td>0</td>\n      <td>1</td>\n      <td>0</td>\n      <td>0</td>\n      <td>0</td>\n      <td>0</td>\n    </tr>\n    <tr>\n      <th>3</th>\n      <td>0</td>\n      <td>0</td>\n      <td>0</td>\n      <td>0</td>\n      <td>0</td>\n      <td>0</td>\n      <td>1</td>\n      <td>0</td>\n      <td>0</td>\n      <td>0</td>\n      <td>...</td>\n      <td>0</td>\n      <td>0</td>\n      <td>0</td>\n      <td>0</td>\n      <td>0</td>\n      <td>0</td>\n      <td>0</td>\n      <td>0</td>\n      <td>0</td>\n      <td>0</td>\n    </tr>\n    <tr>\n      <th>4</th>\n      <td>0</td>\n      <td>0</td>\n      <td>0</td>\n      <td>0</td>\n      <td>0</td>\n      <td>0</td>\n      <td>1</td>\n      <td>0</td>\n      <td>0</td>\n      <td>0</td>\n      <td>...</td>\n      <td>0</td>\n      <td>0</td>\n      <td>0</td>\n      <td>0</td>\n      <td>0</td>\n      <td>0</td>\n      <td>0</td>\n      <td>0</td>\n      <td>0</td>\n      <td>0</td>\n    </tr>\n    <tr>\n      <th>...</th>\n      <td>...</td>\n      <td>...</td>\n      <td>...</td>\n      <td>...</td>\n      <td>...</td>\n      <td>...</td>\n      <td>...</td>\n      <td>...</td>\n      <td>...</td>\n      <td>...</td>\n      <td>...</td>\n      <td>...</td>\n      <td>...</td>\n      <td>...</td>\n      <td>...</td>\n      <td>...</td>\n      <td>...</td>\n      <td>...</td>\n      <td>...</td>\n      <td>...</td>\n      <td>...</td>\n    </tr>\n    <tr>\n      <th>979</th>\n      <td>0</td>\n      <td>0</td>\n      <td>0</td>\n      <td>0</td>\n      <td>0</td>\n      <td>0</td>\n      <td>0</td>\n      <td>0</td>\n      <td>0</td>\n      <td>0</td>\n      <td>...</td>\n      <td>0</td>\n      <td>0</td>\n      <td>0</td>\n      <td>0</td>\n      <td>0</td>\n      <td>0</td>\n      <td>0</td>\n      <td>0</td>\n      <td>0</td>\n      <td>0</td>\n    </tr>\n    <tr>\n      <th>980</th>\n      <td>0</td>\n      <td>0</td>\n      <td>0</td>\n      <td>0</td>\n      <td>0</td>\n      <td>0</td>\n      <td>0</td>\n      <td>0</td>\n      <td>1</td>\n      <td>0</td>\n      <td>...</td>\n      <td>0</td>\n      <td>0</td>\n      <td>0</td>\n      <td>0</td>\n      <td>0</td>\n      <td>0</td>\n      <td>0</td>\n      <td>0</td>\n      <td>0</td>\n      <td>0</td>\n    </tr>\n    <tr>\n      <th>981</th>\n      <td>0</td>\n      <td>0</td>\n      <td>0</td>\n      <td>0</td>\n      <td>0</td>\n      <td>0</td>\n      <td>0</td>\n      <td>0</td>\n      <td>0</td>\n      <td>0</td>\n      <td>...</td>\n      <td>0</td>\n      <td>1</td>\n      <td>0</td>\n      <td>0</td>\n      <td>0</td>\n      <td>0</td>\n      <td>0</td>\n      <td>0</td>\n      <td>0</td>\n      <td>0</td>\n    </tr>\n    <tr>\n      <th>982</th>\n      <td>0</td>\n      <td>0</td>\n      <td>0</td>\n      <td>0</td>\n      <td>0</td>\n      <td>0</td>\n      <td>0</td>\n      <td>0</td>\n      <td>0</td>\n      <td>0</td>\n      <td>...</td>\n      <td>0</td>\n      <td>0</td>\n      <td>0</td>\n      <td>1</td>\n      <td>0</td>\n      <td>0</td>\n      <td>0</td>\n      <td>0</td>\n      <td>0</td>\n      <td>0</td>\n    </tr>\n    <tr>\n      <th>983</th>\n      <td>0</td>\n      <td>0</td>\n      <td>0</td>\n      <td>0</td>\n      <td>0</td>\n      <td>0</td>\n      <td>0</td>\n      <td>0</td>\n      <td>0</td>\n      <td>0</td>\n      <td>...</td>\n      <td>1</td>\n      <td>0</td>\n      <td>0</td>\n      <td>0</td>\n      <td>0</td>\n      <td>0</td>\n      <td>0</td>\n      <td>0</td>\n      <td>0</td>\n      <td>0</td>\n    </tr>\n  </tbody>\n</table>\n<p>984 rows × 37 columns</p>\n</div>"
     },
     "metadata": {},
     "execution_count": 8
    }
   ],
   "source": [
    "typing = pd.concat([type1, type2], axis=1)\n",
    "typing"
   ]
  },
  {
   "cell_type": "code",
   "execution_count": 9,
   "metadata": {},
   "outputs": [
    {
     "output_type": "execute_result",
     "data": {
      "text/plain": [
       "     Total   HP  Attack  Defense  Sp. Atk  Sp. Def  Speed  Heights (m)  \\\n",
       "0      318   45      49       49       65       65     45          0.7   \n",
       "1      405   60      62       63       80       80     60          1.0   \n",
       "2      525   80      82       83      100      100     80          2.0   \n",
       "3      309   39      52       43       60       50     65          0.6   \n",
       "4      405   58      64       58       80       65     80          1.1   \n",
       "..     ...  ...     ...      ...      ...      ...    ...          ...   \n",
       "979    580  100     145      130       65      110     30          2.2   \n",
       "980    580  100      65       60      145       80    130          2.0   \n",
       "981    500  100      80       80       80       80     80          1.1   \n",
       "982    680  100     165      150       85      130     50          2.4   \n",
       "983    680  100      85       80      165      100    150          2.4   \n",
       "\n",
       "     Weight (kg)  \n",
       "0            6.9  \n",
       "1           13.0  \n",
       "2          100.0  \n",
       "3            8.5  \n",
       "4           19.0  \n",
       "..           ...  \n",
       "979        800.0  \n",
       "980         44.5  \n",
       "981          7.7  \n",
       "982        809.1  \n",
       "983         53.6  \n",
       "\n",
       "[984 rows x 9 columns]"
      ],
      "text/html": "<div>\n<style scoped>\n    .dataframe tbody tr th:only-of-type {\n        vertical-align: middle;\n    }\n\n    .dataframe tbody tr th {\n        vertical-align: top;\n    }\n\n    .dataframe thead th {\n        text-align: right;\n    }\n</style>\n<table border=\"1\" class=\"dataframe\">\n  <thead>\n    <tr style=\"text-align: right;\">\n      <th></th>\n      <th>Total</th>\n      <th>HP</th>\n      <th>Attack</th>\n      <th>Defense</th>\n      <th>Sp. Atk</th>\n      <th>Sp. Def</th>\n      <th>Speed</th>\n      <th>Heights (m)</th>\n      <th>Weight (kg)</th>\n    </tr>\n  </thead>\n  <tbody>\n    <tr>\n      <th>0</th>\n      <td>318</td>\n      <td>45</td>\n      <td>49</td>\n      <td>49</td>\n      <td>65</td>\n      <td>65</td>\n      <td>45</td>\n      <td>0.7</td>\n      <td>6.9</td>\n    </tr>\n    <tr>\n      <th>1</th>\n      <td>405</td>\n      <td>60</td>\n      <td>62</td>\n      <td>63</td>\n      <td>80</td>\n      <td>80</td>\n      <td>60</td>\n      <td>1.0</td>\n      <td>13.0</td>\n    </tr>\n    <tr>\n      <th>2</th>\n      <td>525</td>\n      <td>80</td>\n      <td>82</td>\n      <td>83</td>\n      <td>100</td>\n      <td>100</td>\n      <td>80</td>\n      <td>2.0</td>\n      <td>100.0</td>\n    </tr>\n    <tr>\n      <th>3</th>\n      <td>309</td>\n      <td>39</td>\n      <td>52</td>\n      <td>43</td>\n      <td>60</td>\n      <td>50</td>\n      <td>65</td>\n      <td>0.6</td>\n      <td>8.5</td>\n    </tr>\n    <tr>\n      <th>4</th>\n      <td>405</td>\n      <td>58</td>\n      <td>64</td>\n      <td>58</td>\n      <td>80</td>\n      <td>65</td>\n      <td>80</td>\n      <td>1.1</td>\n      <td>19.0</td>\n    </tr>\n    <tr>\n      <th>...</th>\n      <td>...</td>\n      <td>...</td>\n      <td>...</td>\n      <td>...</td>\n      <td>...</td>\n      <td>...</td>\n      <td>...</td>\n      <td>...</td>\n      <td>...</td>\n    </tr>\n    <tr>\n      <th>979</th>\n      <td>580</td>\n      <td>100</td>\n      <td>145</td>\n      <td>130</td>\n      <td>65</td>\n      <td>110</td>\n      <td>30</td>\n      <td>2.2</td>\n      <td>800.0</td>\n    </tr>\n    <tr>\n      <th>980</th>\n      <td>580</td>\n      <td>100</td>\n      <td>65</td>\n      <td>60</td>\n      <td>145</td>\n      <td>80</td>\n      <td>130</td>\n      <td>2.0</td>\n      <td>44.5</td>\n    </tr>\n    <tr>\n      <th>981</th>\n      <td>500</td>\n      <td>100</td>\n      <td>80</td>\n      <td>80</td>\n      <td>80</td>\n      <td>80</td>\n      <td>80</td>\n      <td>1.1</td>\n      <td>7.7</td>\n    </tr>\n    <tr>\n      <th>982</th>\n      <td>680</td>\n      <td>100</td>\n      <td>165</td>\n      <td>150</td>\n      <td>85</td>\n      <td>130</td>\n      <td>50</td>\n      <td>2.4</td>\n      <td>809.1</td>\n    </tr>\n    <tr>\n      <th>983</th>\n      <td>680</td>\n      <td>100</td>\n      <td>85</td>\n      <td>80</td>\n      <td>165</td>\n      <td>100</td>\n      <td>150</td>\n      <td>2.4</td>\n      <td>53.6</td>\n    </tr>\n  </tbody>\n</table>\n<p>984 rows × 9 columns</p>\n</div>"
     },
     "metadata": {},
     "execution_count": 9
    }
   ],
   "source": [
    "stats = pok.loc[:,['Total','HP','Attack','Defense','Sp. Atk', 'Sp. Def', 'Speed','Heights (m)','Weight (kg)']]\n",
    "stats"
   ]
  },
  {
   "cell_type": "code",
   "execution_count": 10,
   "metadata": {},
   "outputs": [
    {
     "output_type": "execute_result",
     "data": {
      "text/plain": [
       "     Type 1 Bug  Type 1 Dark  Type 1 Dragon  Type 1 Electric  Type 1 Fairy  \\\n",
       "0             0            0              0                0             0   \n",
       "1             0            0              0                0             0   \n",
       "2             0            0              0                0             0   \n",
       "3             0            0              0                0             0   \n",
       "4             0            0              0                0             0   \n",
       "..          ...          ...            ...              ...           ...   \n",
       "979           0            0              0                0             0   \n",
       "980           0            0              0                0             0   \n",
       "981           0            0              0                0             0   \n",
       "982           0            0              0                0             0   \n",
       "983           0            0              0                0             0   \n",
       "\n",
       "     Type 1 Fighting  Type 1 Fire  Type 1 Flying  Type 1 Ghost  Type 1 Grass  \\\n",
       "0                  0            0              0             0             1   \n",
       "1                  0            0              0             0             1   \n",
       "2                  0            0              0             0             1   \n",
       "3                  0            1              0             0             0   \n",
       "4                  0            1              0             0             0   \n",
       "..               ...          ...            ...           ...           ...   \n",
       "979                0            0              0             0             0   \n",
       "980                0            0              0             1             0   \n",
       "981                0            0              0             0             0   \n",
       "982                0            0              0             0             0   \n",
       "983                0            0              0             0             0   \n",
       "\n",
       "     ...  Type 2 Water  Total   HP  Attack  Defense  Sp. Atk  Sp. Def  Speed  \\\n",
       "0    ...             0    318   45      49       49       65       65     45   \n",
       "1    ...             0    405   60      62       63       80       80     60   \n",
       "2    ...             0    525   80      82       83      100      100     80   \n",
       "3    ...             0    309   39      52       43       60       50     65   \n",
       "4    ...             0    405   58      64       58       80       65     80   \n",
       "..   ...           ...    ...  ...     ...      ...      ...      ...    ...   \n",
       "979  ...             0    580  100     145      130       65      110     30   \n",
       "980  ...             0    580  100      65       60      145       80    130   \n",
       "981  ...             0    500  100      80       80       80       80     80   \n",
       "982  ...             0    680  100     165      150       85      130     50   \n",
       "983  ...             0    680  100      85       80      165      100    150   \n",
       "\n",
       "     Heights (m)  Weight (kg)  \n",
       "0            0.7          6.9  \n",
       "1            1.0         13.0  \n",
       "2            2.0        100.0  \n",
       "3            0.6          8.5  \n",
       "4            1.1         19.0  \n",
       "..           ...          ...  \n",
       "979          2.2        800.0  \n",
       "980          2.0         44.5  \n",
       "981          1.1          7.7  \n",
       "982          2.4        809.1  \n",
       "983          2.4         53.6  \n",
       "\n",
       "[984 rows x 46 columns]"
      ],
      "text/html": "<div>\n<style scoped>\n    .dataframe tbody tr th:only-of-type {\n        vertical-align: middle;\n    }\n\n    .dataframe tbody tr th {\n        vertical-align: top;\n    }\n\n    .dataframe thead th {\n        text-align: right;\n    }\n</style>\n<table border=\"1\" class=\"dataframe\">\n  <thead>\n    <tr style=\"text-align: right;\">\n      <th></th>\n      <th>Type 1 Bug</th>\n      <th>Type 1 Dark</th>\n      <th>Type 1 Dragon</th>\n      <th>Type 1 Electric</th>\n      <th>Type 1 Fairy</th>\n      <th>Type 1 Fighting</th>\n      <th>Type 1 Fire</th>\n      <th>Type 1 Flying</th>\n      <th>Type 1 Ghost</th>\n      <th>Type 1 Grass</th>\n      <th>...</th>\n      <th>Type 2 Water</th>\n      <th>Total</th>\n      <th>HP</th>\n      <th>Attack</th>\n      <th>Defense</th>\n      <th>Sp. Atk</th>\n      <th>Sp. Def</th>\n      <th>Speed</th>\n      <th>Heights (m)</th>\n      <th>Weight (kg)</th>\n    </tr>\n  </thead>\n  <tbody>\n    <tr>\n      <th>0</th>\n      <td>0</td>\n      <td>0</td>\n      <td>0</td>\n      <td>0</td>\n      <td>0</td>\n      <td>0</td>\n      <td>0</td>\n      <td>0</td>\n      <td>0</td>\n      <td>1</td>\n      <td>...</td>\n      <td>0</td>\n      <td>318</td>\n      <td>45</td>\n      <td>49</td>\n      <td>49</td>\n      <td>65</td>\n      <td>65</td>\n      <td>45</td>\n      <td>0.7</td>\n      <td>6.9</td>\n    </tr>\n    <tr>\n      <th>1</th>\n      <td>0</td>\n      <td>0</td>\n      <td>0</td>\n      <td>0</td>\n      <td>0</td>\n      <td>0</td>\n      <td>0</td>\n      <td>0</td>\n      <td>0</td>\n      <td>1</td>\n      <td>...</td>\n      <td>0</td>\n      <td>405</td>\n      <td>60</td>\n      <td>62</td>\n      <td>63</td>\n      <td>80</td>\n      <td>80</td>\n      <td>60</td>\n      <td>1.0</td>\n      <td>13.0</td>\n    </tr>\n    <tr>\n      <th>2</th>\n      <td>0</td>\n      <td>0</td>\n      <td>0</td>\n      <td>0</td>\n      <td>0</td>\n      <td>0</td>\n      <td>0</td>\n      <td>0</td>\n      <td>0</td>\n      <td>1</td>\n      <td>...</td>\n      <td>0</td>\n      <td>525</td>\n      <td>80</td>\n      <td>82</td>\n      <td>83</td>\n      <td>100</td>\n      <td>100</td>\n      <td>80</td>\n      <td>2.0</td>\n      <td>100.0</td>\n    </tr>\n    <tr>\n      <th>3</th>\n      <td>0</td>\n      <td>0</td>\n      <td>0</td>\n      <td>0</td>\n      <td>0</td>\n      <td>0</td>\n      <td>1</td>\n      <td>0</td>\n      <td>0</td>\n      <td>0</td>\n      <td>...</td>\n      <td>0</td>\n      <td>309</td>\n      <td>39</td>\n      <td>52</td>\n      <td>43</td>\n      <td>60</td>\n      <td>50</td>\n      <td>65</td>\n      <td>0.6</td>\n      <td>8.5</td>\n    </tr>\n    <tr>\n      <th>4</th>\n      <td>0</td>\n      <td>0</td>\n      <td>0</td>\n      <td>0</td>\n      <td>0</td>\n      <td>0</td>\n      <td>1</td>\n      <td>0</td>\n      <td>0</td>\n      <td>0</td>\n      <td>...</td>\n      <td>0</td>\n      <td>405</td>\n      <td>58</td>\n      <td>64</td>\n      <td>58</td>\n      <td>80</td>\n      <td>65</td>\n      <td>80</td>\n      <td>1.1</td>\n      <td>19.0</td>\n    </tr>\n    <tr>\n      <th>...</th>\n      <td>...</td>\n      <td>...</td>\n      <td>...</td>\n      <td>...</td>\n      <td>...</td>\n      <td>...</td>\n      <td>...</td>\n      <td>...</td>\n      <td>...</td>\n      <td>...</td>\n      <td>...</td>\n      <td>...</td>\n      <td>...</td>\n      <td>...</td>\n      <td>...</td>\n      <td>...</td>\n      <td>...</td>\n      <td>...</td>\n      <td>...</td>\n      <td>...</td>\n      <td>...</td>\n    </tr>\n    <tr>\n      <th>979</th>\n      <td>0</td>\n      <td>0</td>\n      <td>0</td>\n      <td>0</td>\n      <td>0</td>\n      <td>0</td>\n      <td>0</td>\n      <td>0</td>\n      <td>0</td>\n      <td>0</td>\n      <td>...</td>\n      <td>0</td>\n      <td>580</td>\n      <td>100</td>\n      <td>145</td>\n      <td>130</td>\n      <td>65</td>\n      <td>110</td>\n      <td>30</td>\n      <td>2.2</td>\n      <td>800.0</td>\n    </tr>\n    <tr>\n      <th>980</th>\n      <td>0</td>\n      <td>0</td>\n      <td>0</td>\n      <td>0</td>\n      <td>0</td>\n      <td>0</td>\n      <td>0</td>\n      <td>0</td>\n      <td>1</td>\n      <td>0</td>\n      <td>...</td>\n      <td>0</td>\n      <td>580</td>\n      <td>100</td>\n      <td>65</td>\n      <td>60</td>\n      <td>145</td>\n      <td>80</td>\n      <td>130</td>\n      <td>2.0</td>\n      <td>44.5</td>\n    </tr>\n    <tr>\n      <th>981</th>\n      <td>0</td>\n      <td>0</td>\n      <td>0</td>\n      <td>0</td>\n      <td>0</td>\n      <td>0</td>\n      <td>0</td>\n      <td>0</td>\n      <td>0</td>\n      <td>0</td>\n      <td>...</td>\n      <td>0</td>\n      <td>500</td>\n      <td>100</td>\n      <td>80</td>\n      <td>80</td>\n      <td>80</td>\n      <td>80</td>\n      <td>80</td>\n      <td>1.1</td>\n      <td>7.7</td>\n    </tr>\n    <tr>\n      <th>982</th>\n      <td>0</td>\n      <td>0</td>\n      <td>0</td>\n      <td>0</td>\n      <td>0</td>\n      <td>0</td>\n      <td>0</td>\n      <td>0</td>\n      <td>0</td>\n      <td>0</td>\n      <td>...</td>\n      <td>0</td>\n      <td>680</td>\n      <td>100</td>\n      <td>165</td>\n      <td>150</td>\n      <td>85</td>\n      <td>130</td>\n      <td>50</td>\n      <td>2.4</td>\n      <td>809.1</td>\n    </tr>\n    <tr>\n      <th>983</th>\n      <td>0</td>\n      <td>0</td>\n      <td>0</td>\n      <td>0</td>\n      <td>0</td>\n      <td>0</td>\n      <td>0</td>\n      <td>0</td>\n      <td>0</td>\n      <td>0</td>\n      <td>...</td>\n      <td>0</td>\n      <td>680</td>\n      <td>100</td>\n      <td>85</td>\n      <td>80</td>\n      <td>165</td>\n      <td>100</td>\n      <td>150</td>\n      <td>2.4</td>\n      <td>53.6</td>\n    </tr>\n  </tbody>\n</table>\n<p>984 rows × 46 columns</p>\n</div>"
     },
     "metadata": {},
     "execution_count": 10
    }
   ],
   "source": [
    "'''\n",
    "Here I just merged the tables to create the big feature table for all the important information about each Pokémon.\n",
    "It denotes their typing and has all their stats and physical featues like height and weight.\n",
    "'''\n",
    "\n",
    "Xf = pd.concat([typing, stats], axis=1)\n",
    "Xf"
   ]
  },
  {
   "cell_type": "code",
   "execution_count": 11,
   "metadata": {},
   "outputs": [
    {
     "output_type": "execute_result",
     "data": {
      "text/plain": [
       "pandas.core.frame.DataFrame"
      ]
     },
     "metadata": {},
     "execution_count": 11
    }
   ],
   "source": [
    "type(Xf)"
   ]
  },
  {
   "cell_type": "code",
   "execution_count": 12,
   "metadata": {},
   "outputs": [
    {
     "output_type": "execute_result",
     "data": {
      "text/plain": [
       "array([[0.000e+00, 0.000e+00, 0.000e+00, ..., 4.500e+01, 7.000e-01,\n",
       "        6.900e+00],\n",
       "       [0.000e+00, 0.000e+00, 0.000e+00, ..., 6.000e+01, 1.000e+00,\n",
       "        1.300e+01],\n",
       "       [0.000e+00, 0.000e+00, 0.000e+00, ..., 8.000e+01, 2.000e+00,\n",
       "        1.000e+02],\n",
       "       ...,\n",
       "       [0.000e+00, 0.000e+00, 0.000e+00, ..., 8.000e+01, 1.100e+00,\n",
       "        7.700e+00],\n",
       "       [0.000e+00, 0.000e+00, 0.000e+00, ..., 5.000e+01, 2.400e+00,\n",
       "        8.091e+02],\n",
       "       [0.000e+00, 0.000e+00, 0.000e+00, ..., 1.500e+02, 2.400e+00,\n",
       "        5.360e+01]])"
      ]
     },
     "metadata": {},
     "execution_count": 12
    }
   ],
   "source": [
    "X_final = Xf.to_numpy()\n",
    "X_final"
   ]
  },
  {
   "cell_type": "code",
   "execution_count": 13,
   "metadata": {},
   "outputs": [
    {
     "output_type": "execute_result",
     "data": {
      "text/plain": [
       "array([1, 1, 2, 1, 1, 2, 1, 1, 2, 1, 1, 2, 1, 1, 2, 1, 1, 2, 1, 2, 1, 2,\n",
       "       1, 2, 1, 2, 1, 2, 1, 1, 2, 1, 1, 2, 1, 2, 1, 2, 1, 2, 1, 1, 1, 1,\n",
       "       2, 1, 2, 1, 2, 1, 2, 1, 2, 1, 2, 1, 2, 1, 2, 1, 1, 2, 1, 1, 2, 1,\n",
       "       1, 2, 1, 1, 2, 1, 2, 1, 1, 2, 1, 2, 1, 2, 1, 1, 0, 1, 2, 1, 2, 1,\n",
       "       2, 1, 2, 1, 1, 2, 1, 1, 2, 1, 2, 1, 2, 1, 2, 1, 2, 2, 2, 1, 1, 2,\n",
       "       1, 1, 1, 1, 0, 1, 1, 1, 2, 1, 2, 2, 1, 2, 1, 1, 0, 0, 1, 2, 0, 0,\n",
       "       1, 2, 2, 2, 1, 1, 2, 1, 2, 0, 2, 3, 3, 3, 1, 1, 2, 3, 4, 1, 1, 2,\n",
       "       1, 1, 2, 1, 1, 2, 1, 2, 1, 2, 1, 2, 1, 2, 2, 1, 2, 1, 1, 1, 1, 1,\n",
       "       1, 2, 1, 1, 2, 2, 1, 2, 2, 2, 1, 1, 2, 1, 1, 2, 1, 1, 2, 2, 2, 1,\n",
       "       2, 1, 0, 2, 2, 1, 2, 0, 1, 2, 1, 2, 0, 2, 0, 0, 1, 1, 2, 1, 2, 1,\n",
       "       1, 0, 1, 2, 0, 2, 0, 1, 2, 2, 1, 2, 1, 0, 0, 1, 2, 1, 1, 1, 0, 2,\n",
       "       3, 3, 3, 1, 1, 2, 3, 3, 4, 1, 1, 2, 1, 1, 2, 1, 1, 2, 1, 2, 1, 2,\n",
       "       1, 1, 2, 1, 2, 1, 1, 2, 1, 1, 2, 1, 2, 1, 2, 1, 1, 2, 1, 2, 1, 2,\n",
       "       1, 1, 2, 1, 2, 2, 1, 1, 2, 1, 2, 1, 1, 1, 2, 0, 0, 1, 1, 2, 1, 2,\n",
       "       1, 2, 0, 0, 0, 0, 1, 1, 2, 1, 2, 1, 2, 1, 2, 0, 1, 2, 0, 1, 1, 2,\n",
       "       1, 2, 1, 2, 0, 0, 0, 0, 1, 2, 1, 2, 1, 2, 1, 2, 1, 2, 1, 2, 0, 0,\n",
       "       1, 2, 1, 1, 0, 2, 0, 1, 1, 2, 1, 1, 2, 1, 2, 2, 0, 0, 1, 1, 2, 1,\n",
       "       1, 2, 3, 3, 3, 3, 3, 3, 3, 3, 4, 4, 4, 4, 4, 1, 1, 2, 1, 1, 2, 1,\n",
       "       1, 2, 1, 1, 2, 1, 2, 1, 2, 1, 1, 2, 1, 2, 1, 2, 1, 2, 1, 2, 2, 2,\n",
       "       2, 1, 2, 0, 1, 2, 1, 2, 1, 2, 2, 1, 2, 1, 2, 2, 2, 1, 2, 1, 1, 2,\n",
       "       1, 2, 1, 1, 1, 0, 0, 1, 1, 2, 1, 1, 2, 1, 2, 1, 2, 1, 2, 0, 1, 2,\n",
       "       1, 1, 2, 2, 2, 2, 2, 2, 2, 2, 2, 2, 2, 2, 2, 2, 2, 2, 2, 2, 2, 0,\n",
       "       0, 0, 0, 0, 0, 3, 3, 3, 3, 3, 3, 3, 3, 3, 4, 4, 4, 4, 4, 4, 4, 1,\n",
       "       1, 2, 1, 1, 2, 1, 1, 2, 1, 2, 1, 1, 2, 1, 2, 1, 2, 1, 2, 1, 2, 1,\n",
       "       2, 1, 1, 2, 1, 2, 1, 1, 2, 1, 2, 1, 2, 0, 1, 1, 2, 1, 1, 2, 0, 0,\n",
       "       1, 1, 2, 1, 1, 2, 1, 2, 1, 2, 0, 1, 1, 2, 1, 2, 2, 0, 1, 2, 1, 2,\n",
       "       0, 1, 2, 1, 2, 1, 2, 1, 2, 1, 2, 1, 2, 1, 1, 2, 1, 1, 2, 1, 2, 1,\n",
       "       1, 2, 1, 2, 0, 1, 2, 1, 2, 1, 2, 0, 1, 2, 1, 2, 1, 1, 2, 1, 1, 2,\n",
       "       1, 2, 1, 1, 2, 1, 1, 2, 1, 2, 0, 1, 2, 0, 1, 2, 0, 1, 2, 1, 2, 0,\n",
       "       1, 2, 1, 2, 0, 0, 1, 1, 2, 1, 2, 3, 3, 3, 3, 3, 3, 3, 3, 3, 3, 3,\n",
       "       3, 3, 3, 4, 4, 4, 4, 1, 1, 2, 1, 1, 2, 1, 1, 2, 1, 2, 1, 1, 2, 1,\n",
       "       1, 2, 1, 2, 1, 1, 2, 1, 2, 1, 2, 0, 1, 2, 1, 1, 2, 2, 1, 2, 1, 2,\n",
       "       1, 2, 1, 2, 1, 2, 1, 2, 1, 2, 1, 2, 1, 2, 2, 0, 0, 0, 1, 1, 2, 0,\n",
       "       1, 2, 1, 1, 1, 1, 2, 2, 2, 2, 1, 2, 1, 2, 3, 3, 3, 4, 4, 4, 4, 1,\n",
       "       2, 0, 1, 1, 2, 1, 2, 1, 2, 1, 2, 1, 1, 2, 1, 2, 2, 2, 0, 3, 3, 1,\n",
       "       1, 2, 1, 1, 2, 1, 1, 2, 1, 1, 2, 1, 2, 1, 1, 2, 1, 2, 0, 0, 0, 0,\n",
       "       1, 2, 1, 2, 2, 2, 0, 0, 1, 2, 1, 2, 1, 2, 1, 2, 1, 2, 1, 2, 1, 2,\n",
       "       1, 1, 2, 0, 0, 0, 1, 2, 1, 2, 0, 1, 2, 0, 0, 0, 1, 0, 0, 0, 0, 0,\n",
       "       1, 1, 2, 3, 3, 3, 3, 1, 1, 3, 3, 3, 3, 3, 3, 3, 3, 3, 3, 3, 3, 3,\n",
       "       4, 4, 1, 3, 3, 3, 4, 1, 4, 1, 1, 2, 1, 2, 1, 2, 1, 3, 3, 3, 2, 1,\n",
       "       1, 1, 1, 2, 2, 1, 0, 1, 1, 2, 1, 1, 2, 1, 1, 2, 1, 2, 1, 1, 2, 1,\n",
       "       1, 2, 1, 2, 1, 2, 1, 2, 1, 2, 1, 2, 1, 1, 2, 1, 2, 2, 1, 2, 0, 1,\n",
       "       2, 1, 2, 2, 1, 2, 1, 2, 1, 2, 1, 1, 2, 1, 1, 2, 2, 2, 2, 2, 2, 2,\n",
       "       1, 2, 0, 0, 1, 2, 0, 0, 0, 0, 0, 0, 1, 2, 0, 0, 0, 0, 0, 1, 1, 2,\n",
       "       3, 3, 3, 3, 3, 1, 3, 3, 4, 3, 3, 3, 3, 4, 3, 3], dtype=object)"
      ]
     },
     "metadata": {},
     "execution_count": 13
    }
   ],
   "source": [
    "y = poke[:,2]\n",
    "y"
   ]
  },
  {
   "cell_type": "code",
   "execution_count": 14,
   "metadata": {},
   "outputs": [
    {
     "output_type": "execute_result",
     "data": {
      "text/plain": [
       "array([0, 0, 0, 0, 0, 0, 0, 0, 0, 0, 0, 0, 0, 0, 0, 0, 0, 0, 0, 0, 0, 0,\n",
       "       0, 0, 0, 0, 0, 0, 0, 0, 0, 0, 0, 0, 0, 0, 0, 0, 0, 0, 0, 0, 0, 0,\n",
       "       0, 0, 0, 0, 0, 0, 0, 0, 0, 0, 0, 0, 0, 0, 0, 0, 0, 0, 0, 0, 0, 0,\n",
       "       0, 0, 0, 0, 0, 0, 0, 0, 0, 0, 0, 0, 0, 0, 0, 0, 0, 0, 0, 0, 0, 0,\n",
       "       0, 0, 0, 0, 0, 0, 0, 0, 0, 0, 0, 0, 0, 0, 0, 0, 0, 0, 0, 0, 0, 0,\n",
       "       0, 0, 0, 0, 0, 0, 0, 0, 0, 0, 0, 0, 0, 0, 0, 0, 0, 0, 0, 0, 0, 0,\n",
       "       0, 0, 0, 0, 0, 0, 0, 0, 0, 0, 0, 1, 1, 1, 0, 0, 0, 1, 1, 0, 0, 0,\n",
       "       0, 0, 0, 0, 0, 0, 0, 0, 0, 0, 0, 0, 0, 0, 0, 0, 0, 0, 0, 0, 0, 0,\n",
       "       0, 0, 0, 0, 0, 0, 0, 0, 0, 0, 0, 0, 0, 0, 0, 0, 0, 0, 0, 0, 0, 0,\n",
       "       0, 0, 0, 0, 0, 0, 0, 0, 0, 0, 0, 0, 0, 0, 0, 0, 0, 0, 0, 0, 0, 0,\n",
       "       0, 0, 0, 0, 0, 0, 0, 0, 0, 0, 0, 0, 0, 0, 0, 0, 0, 0, 0, 0, 0, 0,\n",
       "       1, 1, 1, 0, 0, 0, 1, 1, 1, 0, 0, 0, 0, 0, 0, 0, 0, 0, 0, 0, 0, 0,\n",
       "       0, 0, 0, 0, 0, 0, 0, 0, 0, 0, 0, 0, 0, 0, 0, 0, 0, 0, 0, 0, 0, 0,\n",
       "       0, 0, 0, 0, 0, 0, 0, 0, 0, 0, 0, 0, 0, 0, 0, 0, 0, 0, 0, 0, 0, 0,\n",
       "       0, 0, 0, 0, 0, 0, 0, 0, 0, 0, 0, 0, 0, 0, 0, 0, 0, 0, 0, 0, 0, 0,\n",
       "       0, 0, 0, 0, 0, 0, 0, 0, 0, 0, 0, 0, 0, 0, 0, 0, 0, 0, 0, 0, 0, 0,\n",
       "       0, 0, 0, 0, 0, 0, 0, 0, 0, 0, 0, 0, 0, 0, 0, 0, 0, 0, 0, 0, 0, 0,\n",
       "       0, 0, 1, 1, 1, 1, 1, 1, 1, 1, 1, 1, 1, 1, 1, 0, 0, 0, 0, 0, 0, 0,\n",
       "       0, 0, 0, 0, 0, 0, 0, 0, 0, 0, 0, 0, 0, 0, 0, 0, 0, 0, 0, 0, 0, 0,\n",
       "       0, 0, 0, 0, 0, 0, 0, 0, 0, 0, 0, 0, 0, 0, 0, 0, 0, 0, 0, 0, 0, 0,\n",
       "       0, 0, 0, 0, 0, 0, 0, 0, 0, 0, 0, 0, 0, 0, 0, 0, 0, 0, 0, 0, 0, 0,\n",
       "       0, 0, 0, 0, 0, 0, 0, 0, 0, 0, 0, 0, 0, 0, 0, 0, 0, 0, 0, 0, 0, 0,\n",
       "       0, 0, 0, 0, 0, 1, 1, 1, 1, 1, 1, 1, 1, 1, 1, 1, 1, 1, 1, 1, 1, 0,\n",
       "       0, 0, 0, 0, 0, 0, 0, 0, 0, 0, 0, 0, 0, 0, 0, 0, 0, 0, 0, 0, 0, 0,\n",
       "       0, 0, 0, 0, 0, 0, 0, 0, 0, 0, 0, 0, 0, 0, 0, 0, 0, 0, 0, 0, 0, 0,\n",
       "       0, 0, 0, 0, 0, 0, 0, 0, 0, 0, 0, 0, 0, 0, 0, 0, 0, 0, 0, 0, 0, 0,\n",
       "       0, 0, 0, 0, 0, 0, 0, 0, 0, 0, 0, 0, 0, 0, 0, 0, 0, 0, 0, 0, 0, 0,\n",
       "       0, 0, 0, 0, 0, 0, 0, 0, 0, 0, 0, 0, 0, 0, 0, 0, 0, 0, 0, 0, 0, 0,\n",
       "       0, 0, 0, 0, 0, 0, 0, 0, 0, 0, 0, 0, 0, 0, 0, 0, 0, 0, 0, 0, 0, 0,\n",
       "       0, 0, 0, 0, 0, 0, 0, 0, 0, 0, 0, 1, 1, 1, 1, 1, 1, 1, 1, 1, 1, 1,\n",
       "       1, 1, 1, 1, 1, 1, 1, 0, 0, 0, 0, 0, 0, 0, 0, 0, 0, 0, 0, 0, 0, 0,\n",
       "       0, 0, 0, 0, 0, 0, 0, 0, 0, 0, 0, 0, 0, 0, 0, 0, 0, 0, 0, 0, 0, 0,\n",
       "       0, 0, 0, 0, 0, 0, 0, 0, 0, 0, 0, 0, 0, 0, 0, 0, 0, 0, 0, 0, 0, 0,\n",
       "       0, 0, 0, 0, 0, 0, 0, 0, 0, 0, 0, 0, 0, 0, 1, 1, 1, 1, 1, 1, 1, 0,\n",
       "       0, 0, 0, 0, 0, 0, 0, 0, 0, 0, 0, 0, 0, 0, 0, 0, 0, 0, 0, 1, 1, 0,\n",
       "       0, 0, 0, 0, 0, 0, 0, 0, 0, 0, 0, 0, 0, 0, 0, 0, 0, 0, 0, 0, 0, 0,\n",
       "       0, 0, 0, 0, 0, 0, 0, 0, 0, 0, 0, 0, 0, 0, 0, 0, 0, 0, 0, 0, 0, 0,\n",
       "       0, 0, 0, 0, 0, 0, 0, 0, 0, 0, 0, 0, 0, 0, 0, 0, 0, 0, 0, 0, 0, 0,\n",
       "       0, 0, 0, 1, 1, 1, 1, 0, 0, 1, 1, 1, 1, 1, 1, 1, 1, 1, 1, 1, 1, 1,\n",
       "       1, 1, 0, 1, 1, 1, 1, 0, 1, 0, 0, 0, 0, 0, 0, 0, 0, 1, 1, 1, 0, 0,\n",
       "       0, 0, 0, 0, 0, 0, 0, 0, 0, 0, 0, 0, 0, 0, 0, 0, 0, 0, 0, 0, 0, 0,\n",
       "       0, 0, 0, 0, 0, 0, 0, 0, 0, 0, 0, 0, 0, 0, 0, 0, 0, 0, 0, 0, 0, 0,\n",
       "       0, 0, 0, 0, 0, 0, 0, 0, 0, 0, 0, 0, 0, 0, 0, 0, 0, 0, 0, 0, 0, 0,\n",
       "       0, 0, 0, 0, 0, 0, 0, 0, 0, 0, 0, 0, 0, 0, 0, 0, 0, 0, 0, 0, 0, 0,\n",
       "       1, 1, 1, 1, 1, 0, 1, 1, 1, 1, 1, 1, 1, 1, 1, 1])"
      ]
     },
     "metadata": {},
     "execution_count": 14
    }
   ],
   "source": [
    "'''\n",
    "In this cell, I'm making the classifications a bit simpler. I'm saying that any Pokémon that is not classified as \n",
    "legendary is in one classification, and legendaries and mythical Pokémon are in a separate category. Don't worry about\n",
    "the classifications for this notebook, as they are explained in more detail in the next one.\n",
    "'''\n",
    "for i in range(len(y)):\n",
    "    if y[i] < 3:\n",
    "        y[i] = 0\n",
    "    else:\n",
    "        y[i] = 1    \n",
    "\n",
    "y = y.astype('int')\n",
    "y\n",
    "    "
   ]
  },
  {
   "cell_type": "code",
   "execution_count": 15,
   "metadata": {},
   "outputs": [],
   "source": [
    "'''\n",
    "I'm just splitting the data into training and test sets here.\n",
    "'''\n",
    "\n",
    "from sklearn.model_selection import train_test_split\n",
    "\n",
    "X_train, X_test, y_train, y_test =\\\n",
    "        train_test_split(X_final, y, test_size=0.3, random_state=1, stratify=y)"
   ]
  },
  {
   "cell_type": "code",
   "execution_count": 16,
   "metadata": {},
   "outputs": [
    {
     "output_type": "execute_result",
     "data": {
      "text/plain": [
       "RandomForestClassifier(max_depth=7)"
      ]
     },
     "metadata": {},
     "execution_count": 16
    }
   ],
   "source": [
    "'''\n",
    "I decided to use a Random Forest Classifier because it's good at classification and handling data with\n",
    "high-dimensionality. We're working with 40+ features here, so this is definitely the way to go.\n",
    "'''\n",
    "\n",
    "from sklearn.ensemble import RandomForestClassifier\n",
    "\n",
    "model = RandomForestClassifier(n_estimators=100,max_depth=7)\n",
    "\n",
    "model.fit(X_train,y_train)"
   ]
  },
  {
   "cell_type": "code",
   "execution_count": 17,
   "metadata": {},
   "outputs": [],
   "source": [
    "y_predict = model.predict(X_test)"
   ]
  },
  {
   "cell_type": "code",
   "execution_count": 18,
   "metadata": {},
   "outputs": [
    {
     "output_type": "execute_result",
     "data": {
      "text/plain": [
       "0.9763513513513513"
      ]
     },
     "metadata": {},
     "execution_count": 18
    }
   ],
   "source": [
    "'''\n",
    "The result we get here are incredible. The machine was able to predict if a Pokémon is legendary or not correctly\n",
    "97% of the time!\n",
    "'''\n",
    "\n",
    "accuracy_score(y_test, y_predict)"
   ]
  },
  {
   "cell_type": "code",
   "execution_count": 19,
   "metadata": {},
   "outputs": [
    {
     "output_type": "execute_result",
     "data": {
      "text/plain": [
       "array([[259,   4],\n",
       "       [  3,  30]])"
      ]
     },
     "metadata": {},
     "execution_count": 19
    }
   ],
   "source": [
    "'''\n",
    "In a confusion matrix, the goal is to see where the machine made mistakes. The rows indicate the true labels while \n",
    "the columns are the predicted labels. So, in the first row and first column would be a 'true' prediction for a non \n",
    "legendary Pokémon, while the first row second column would be a 'false' prediction, meaning the machine predicted it\n",
    "to be a legendary, but it was not. This works for the other row as well.\n",
    "\n",
    "The confusion matrix here tells us that the random forest classifier only got 4 incorrect on each type of\n",
    "classification, which is not bad all things considered. There is one important factor to note...\n",
    "'''\n",
    "\n",
    "confusion_matrix(y_test, y_predict)"
   ]
  },
  {
   "cell_type": "code",
   "execution_count": 20,
   "metadata": {},
   "outputs": [
    {
     "output_type": "execute_result",
     "data": {
      "text/plain": [
       "1    427\n",
       "2    348\n",
       "0    100\n",
       "3     81\n",
       "4     28\n",
       "Name: Stage, dtype: int64"
      ]
     },
     "metadata": {},
     "execution_count": 20
    }
   ],
   "source": [
    "\n",
    "'''\n",
    "The classifications I'm using are broken up into 5 categories, but for this exercise, items classified as 0,1, or 2\n",
    "are regular Pokémon and legendary Pokémon are 3 and 4. If you combine these values, there are 875 non legendary \n",
    "Pokémon to 109 legendaries, which is quite the imbalance. The algorithm might have had an easier time predicting since\n",
    "there are so many non-legendary Pokémon in comparison to legendaries.\n",
    "'''\n",
    "\n",
    "classification = pok.loc[:,'Stage']\n",
    "classification.value_counts()"
   ]
  },
  {
   "cell_type": "code",
   "execution_count": 21,
   "metadata": {},
   "outputs": [
    {
     "output_type": "stream",
     "name": "stdout",
     "text": [
      "Feature ranking:\n1. feature 37 (0.362481)\n2. feature 43 (0.099575)\n3. feature 41 (0.086623)\n4. feature 45 (0.074993)\n5. feature 44 (0.073477)\n6. feature 38 (0.064956)\n7. feature 42 (0.063271)\n8. feature 40 (0.054927)\n9. feature 39 (0.048310)\n10. feature 14 (0.008260)\n11. feature 2 (0.007314)\n"
     ]
    }
   ],
   "source": [
    "importances = model.feature_importances_\n",
    "std = np.std([tree.feature_importances_ for tree in model.estimators_],\n",
    "             axis=0)\n",
    "indices = np.argsort(importances)[::-1]\n",
    "\n",
    "# Print the feature ranking\n",
    "print(\"Feature ranking:\")\n",
    "\n",
    "for f in range(X.shape[1]):\n",
    "    print(\"%d. feature %d (%f)\" % (f + 1, indices[f], importances[indices[f]]))"
   ]
  },
  {
   "cell_type": "code",
   "execution_count": 24,
   "metadata": {},
   "outputs": [
    {
     "output_type": "execute_result",
     "data": {
      "text/plain": [
       "     Total  Speed  Sp. Atk  Heights (m)   HP  Weight (kg)  Attack  Defense  \\\n",
       "0      318     45       65          0.7   45          6.9      49       49   \n",
       "1      405     60       80          1.0   60         13.0      62       63   \n",
       "2      525     80      100          2.0   80        100.0      82       83   \n",
       "3      309     65       60          0.6   39          8.5      52       43   \n",
       "4      405     80       80          1.1   58         19.0      64       58   \n",
       "..     ...    ...      ...          ...  ...          ...     ...      ...   \n",
       "979    580     30       65          2.2  100        800.0     145      130   \n",
       "980    580    130      145          2.0  100         44.5      65       60   \n",
       "981    500     80       80          1.1  100          7.7      80       80   \n",
       "982    680     50       85          2.4  100        809.1     165      150   \n",
       "983    680    150      165          2.4  100         53.6      85       80   \n",
       "\n",
       "     Type 1 Psychic  Type 1 Dragon  \n",
       "0                 0              0  \n",
       "1                 0              0  \n",
       "2                 0              0  \n",
       "3                 0              0  \n",
       "4                 0              0  \n",
       "..              ...            ...  \n",
       "979               0              0  \n",
       "980               0              0  \n",
       "981               1              0  \n",
       "982               1              0  \n",
       "983               1              0  \n",
       "\n",
       "[984 rows x 10 columns]"
      ],
      "text/html": "<div>\n<style scoped>\n    .dataframe tbody tr th:only-of-type {\n        vertical-align: middle;\n    }\n\n    .dataframe tbody tr th {\n        vertical-align: top;\n    }\n\n    .dataframe thead th {\n        text-align: right;\n    }\n</style>\n<table border=\"1\" class=\"dataframe\">\n  <thead>\n    <tr style=\"text-align: right;\">\n      <th></th>\n      <th>Total</th>\n      <th>Speed</th>\n      <th>Sp. Atk</th>\n      <th>Heights (m)</th>\n      <th>HP</th>\n      <th>Weight (kg)</th>\n      <th>Attack</th>\n      <th>Defense</th>\n      <th>Type 1 Psychic</th>\n      <th>Type 1 Dragon</th>\n    </tr>\n  </thead>\n  <tbody>\n    <tr>\n      <th>0</th>\n      <td>318</td>\n      <td>45</td>\n      <td>65</td>\n      <td>0.7</td>\n      <td>45</td>\n      <td>6.9</td>\n      <td>49</td>\n      <td>49</td>\n      <td>0</td>\n      <td>0</td>\n    </tr>\n    <tr>\n      <th>1</th>\n      <td>405</td>\n      <td>60</td>\n      <td>80</td>\n      <td>1.0</td>\n      <td>60</td>\n      <td>13.0</td>\n      <td>62</td>\n      <td>63</td>\n      <td>0</td>\n      <td>0</td>\n    </tr>\n    <tr>\n      <th>2</th>\n      <td>525</td>\n      <td>80</td>\n      <td>100</td>\n      <td>2.0</td>\n      <td>80</td>\n      <td>100.0</td>\n      <td>82</td>\n      <td>83</td>\n      <td>0</td>\n      <td>0</td>\n    </tr>\n    <tr>\n      <th>3</th>\n      <td>309</td>\n      <td>65</td>\n      <td>60</td>\n      <td>0.6</td>\n      <td>39</td>\n      <td>8.5</td>\n      <td>52</td>\n      <td>43</td>\n      <td>0</td>\n      <td>0</td>\n    </tr>\n    <tr>\n      <th>4</th>\n      <td>405</td>\n      <td>80</td>\n      <td>80</td>\n      <td>1.1</td>\n      <td>58</td>\n      <td>19.0</td>\n      <td>64</td>\n      <td>58</td>\n      <td>0</td>\n      <td>0</td>\n    </tr>\n    <tr>\n      <th>...</th>\n      <td>...</td>\n      <td>...</td>\n      <td>...</td>\n      <td>...</td>\n      <td>...</td>\n      <td>...</td>\n      <td>...</td>\n      <td>...</td>\n      <td>...</td>\n      <td>...</td>\n    </tr>\n    <tr>\n      <th>979</th>\n      <td>580</td>\n      <td>30</td>\n      <td>65</td>\n      <td>2.2</td>\n      <td>100</td>\n      <td>800.0</td>\n      <td>145</td>\n      <td>130</td>\n      <td>0</td>\n      <td>0</td>\n    </tr>\n    <tr>\n      <th>980</th>\n      <td>580</td>\n      <td>130</td>\n      <td>145</td>\n      <td>2.0</td>\n      <td>100</td>\n      <td>44.5</td>\n      <td>65</td>\n      <td>60</td>\n      <td>0</td>\n      <td>0</td>\n    </tr>\n    <tr>\n      <th>981</th>\n      <td>500</td>\n      <td>80</td>\n      <td>80</td>\n      <td>1.1</td>\n      <td>100</td>\n      <td>7.7</td>\n      <td>80</td>\n      <td>80</td>\n      <td>1</td>\n      <td>0</td>\n    </tr>\n    <tr>\n      <th>982</th>\n      <td>680</td>\n      <td>50</td>\n      <td>85</td>\n      <td>2.4</td>\n      <td>100</td>\n      <td>809.1</td>\n      <td>165</td>\n      <td>150</td>\n      <td>1</td>\n      <td>0</td>\n    </tr>\n    <tr>\n      <th>983</th>\n      <td>680</td>\n      <td>150</td>\n      <td>165</td>\n      <td>2.4</td>\n      <td>100</td>\n      <td>53.6</td>\n      <td>85</td>\n      <td>80</td>\n      <td>1</td>\n      <td>0</td>\n    </tr>\n  </tbody>\n</table>\n<p>984 rows × 10 columns</p>\n</div>"
     },
     "metadata": {},
     "execution_count": 24
    }
   ],
   "source": [
    "most_important = Xf.iloc[:,[37,43,41,44,38,45,39,40,14,2]]\n",
    "most_important\n"
   ]
  },
  {
   "cell_type": "code",
   "execution_count": null,
   "metadata": {},
   "outputs": [],
   "source": [
    "\n",
    "'''\n",
    "Here, we see the most important factors that determine whether a Pokémon is legendary or not. The base stat total is \n",
    "the most important factor, which makes sense, as a legendary is overall much stronger than the average Pokémon.\n",
    "Other notable features are height and weight, which makes sense as well, since legendaries tend to be bigger \n",
    "and heavier as well. The data also shows that if you're a legendary, you're most likely to have the Psychic \n",
    "or Dragon type, which is an interesting tidbit.\n",
    "'''"
   ]
  }
 ],
 "metadata": {
  "kernelspec": {
   "name": "python383jvsc74a57bd0dca0ade3e726a953b501b15e8e990130d2b7799f14cfd9f4271676035ebe5511",
   "display_name": "Python 3.8.3 64-bit ('base': conda)"
  },
  "language_info": {
   "codemirror_mode": {
    "name": "ipython",
    "version": 3
   },
   "file_extension": ".py",
   "mimetype": "text/x-python",
   "name": "python",
   "nbconvert_exporter": "python",
   "pygments_lexer": "ipython3",
   "version": "3.8.3"
  }
 },
 "nbformat": 4,
 "nbformat_minor": 4
}